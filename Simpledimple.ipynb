{
 "cells": [
  {
   "cell_type": "code",
   "execution_count": 20,
   "metadata": {},
   "outputs": [
    {
     "name": "stdout",
     "output_type": "stream",
     "text": [
      "The autoreload extension is already loaded. To reload it, use:\n",
      "  %reload_ext autoreload\n"
     ]
    }
   ],
   "source": [
    "# magics: ensures that any changes to the modules loaded below will be re-loaded automatically\n",
    "%load_ext autoreload\n",
    "%autoreload 2\n",
    "\n",
    "# load general packages\n",
    "from scipy import interpolate\n",
    "import numpy as np\n",
    "import matplotlib.pyplot as plt\n",
    "import time\n",
    "plt.style.use('seaborn-v0_8')"
   ]
  },
  {
   "cell_type": "code",
   "execution_count": 34,
   "metadata": {},
   "outputs": [],
   "source": [
    "# Import EGM model\n",
    "import Simple as tr\n",
    "\n",
    "# Setup\n",
    "par_EGM = tr.setup\n",
    "\n",
    "#egm\n",
    "solve_EGM = tr.egm\n",
    "\n",
    "\n"
   ]
  },
  {
   "cell_type": "markdown",
   "metadata": {},
   "source": [
    "Model solve"
   ]
  },
  {
   "cell_type": "code",
   "execution_count": 49,
   "metadata": {},
   "outputs": [
    {
     "ename": "NameError",
     "evalue": "name 'x' is not defined",
     "output_type": "error",
     "traceback": [
      "\u001b[1;31m---------------------------------------------------------------------------\u001b[0m",
      "\u001b[1;31mNameError\u001b[0m                                 Traceback (most recent call last)",
      "Cell \u001b[1;32mIn[49], line 1\u001b[0m\n\u001b[1;32m----> 1\u001b[0m \u001b[38;5;28mprint\u001b[39m(\u001b[43mx\u001b[49m)\n",
      "\u001b[1;31mNameError\u001b[0m: name 'x' is not defined"
     ]
    }
   ],
   "source": [
    "print()"
   ]
  },
  {
   "cell_type": "code",
   "execution_count": 50,
   "metadata": {},
   "outputs": [
    {
     "name": "stdout",
     "output_type": "stream",
     "text": [
      "Solving period 39\n",
      "Shape of k_plus: (200, 8)\n",
      "Shape of m_plus: (200, 8)\n"
     ]
    },
    {
     "ename": "ValueError",
     "evalue": "One of the requested xi is out of bounds in dimension 0",
     "output_type": "error",
     "traceback": [
      "\u001b[1;31m---------------------------------------------------------------------------\u001b[0m",
      "\u001b[1;31mValueError\u001b[0m                                Traceback (most recent call last)",
      "Cell \u001b[1;32mIn[50], line 15\u001b[0m\n\u001b[0;32m     13\u001b[0m par \u001b[38;5;241m=\u001b[39m tr\u001b[38;5;241m.\u001b[39mcreate_grids(par)\n\u001b[0;32m     14\u001b[0m par[\u001b[38;5;124m'\u001b[39m\u001b[38;5;124mprefix\u001b[39m\u001b[38;5;124m'\u001b[39m] \u001b[38;5;241m=\u001b[39m \u001b[38;5;124m'\u001b[39m\u001b[38;5;124m'\u001b[39m\n\u001b[1;32m---> 15\u001b[0m sol \u001b[38;5;241m=\u001b[39m \u001b[43mtr\u001b[49m\u001b[38;5;241;43m.\u001b[39;49m\u001b[43msolve\u001b[49m\u001b[43m(\u001b[49m\u001b[43mpar\u001b[49m\u001b[43m)\u001b[49m\n\u001b[0;32m     17\u001b[0m \u001b[38;5;66;03m# Simulate\u001b[39;00m\n\u001b[0;32m     18\u001b[0m sim \u001b[38;5;241m=\u001b[39m {\n\u001b[0;32m     19\u001b[0m     \u001b[38;5;124m'\u001b[39m\u001b[38;5;124mN\u001b[39m\u001b[38;5;124m'\u001b[39m: \u001b[38;5;241m10\u001b[39m\u001b[38;5;241m*\u001b[39m\u001b[38;5;241m*\u001b[39m\u001b[38;5;241m5\u001b[39m,\n\u001b[0;32m     20\u001b[0m     \u001b[38;5;124m'\u001b[39m\u001b[38;5;124mm_ini\u001b[39m\u001b[38;5;124m'\u001b[39m: \u001b[38;5;241m1.5\u001b[39m,\n\u001b[0;32m     21\u001b[0m     \u001b[38;5;124m'\u001b[39m\u001b[38;5;124mk_ini\u001b[39m\u001b[38;5;124m'\u001b[39m: \u001b[38;5;241m1\u001b[39m\n\u001b[0;32m     22\u001b[0m }\n",
      "File \u001b[1;32mc:\\Users\\PC\\OneDrive\\Skrivebord\\Urban-winner\\Simple.py:116\u001b[0m, in \u001b[0;36msolve\u001b[1;34m(par)\u001b[0m\n\u001b[0;32m    114\u001b[0m \u001b[38;5;28;01mfor\u001b[39;00m i_k \u001b[38;5;129;01min\u001b[39;00m \u001b[38;5;28mrange\u001b[39m(par[\u001b[38;5;124m'\u001b[39m\u001b[38;5;124mNk\u001b[39m\u001b[38;5;124m'\u001b[39m]):\n\u001b[0;32m    115\u001b[0m     k \u001b[38;5;241m=\u001b[39m par[\u001b[38;5;124m'\u001b[39m\u001b[38;5;124mgrid_k\u001b[39m\u001b[38;5;124m'\u001b[39m][i_k]\n\u001b[1;32m--> 116\u001b[0m     c_raw, m_raw, v_plus_raw \u001b[38;5;241m=\u001b[39m \u001b[43megm\u001b[49m\u001b[43m(\u001b[49m\u001b[43mt\u001b[49m\u001b[43m,\u001b[49m\u001b[43m \u001b[49m\u001b[43mi_nh\u001b[49m\u001b[43m,\u001b[49m\u001b[43m \u001b[49m\u001b[43mk\u001b[49m\u001b[43m,\u001b[49m\u001b[43m \u001b[49m\u001b[43mv_plus_interp\u001b[49m\u001b[43m,\u001b[49m\u001b[43m \u001b[49m\u001b[43mc_plus_interp\u001b[49m\u001b[43m,\u001b[49m\u001b[43m \u001b[49m\u001b[43mpar\u001b[49m\u001b[43m)\u001b[49m\n\u001b[0;32m    117\u001b[0m     c, v \u001b[38;5;241m=\u001b[39m upper_envelope(c_raw, m_raw, v_plus_raw, i_nh, t, par)\n\u001b[0;32m    119\u001b[0m     \u001b[38;5;66;03m# Store solution\u001b[39;00m\n",
      "File \u001b[1;32mc:\\Users\\PC\\OneDrive\\Skrivebord\\Urban-winner\\Simple.py:141\u001b[0m, in \u001b[0;36megm\u001b[1;34m(t, h_choice, k, v_plus_interp, c_plus_interp, par)\u001b[0m\n\u001b[0;32m    138\u001b[0m \u001b[38;5;28mprint\u001b[39m(\u001b[38;5;124m\"\u001b[39m\u001b[38;5;124mShape of k_plus:\u001b[39m\u001b[38;5;124m\"\u001b[39m, k_plus\u001b[38;5;241m.\u001b[39mshape)\n\u001b[0;32m    139\u001b[0m \u001b[38;5;28mprint\u001b[39m(\u001b[38;5;124m\"\u001b[39m\u001b[38;5;124mShape of m_plus:\u001b[39m\u001b[38;5;124m\"\u001b[39m, m_plus\u001b[38;5;241m.\u001b[39mshape)\n\u001b[1;32m--> 141\u001b[0m v_plus_vec_raw, prob \u001b[38;5;241m=\u001b[39m \u001b[43mtaste_exp\u001b[49m\u001b[43m(\u001b[49m\u001b[43mm_plus\u001b[49m\u001b[43m,\u001b[49m\u001b[43m \u001b[49m\u001b[43mk_plus\u001b[49m\u001b[43m,\u001b[49m\u001b[43m \u001b[49m\u001b[43mv_plus_interp\u001b[49m\u001b[43m,\u001b[49m\u001b[43m \u001b[49m\u001b[43mpar\u001b[49m\u001b[43m)\u001b[49m\n\u001b[0;32m    142\u001b[0m v_plus_raw \u001b[38;5;241m=\u001b[39m np\u001b[38;5;241m.\u001b[39msum(w \u001b[38;5;241m*\u001b[39m v_plus_vec_raw, axis\u001b[38;5;241m=\u001b[39m\u001b[38;5;241m1\u001b[39m)  \u001b[38;5;66;03m# Check this operation too\u001b[39;00m\n\u001b[0;32m    144\u001b[0m avg_marg_u_plus \u001b[38;5;241m=\u001b[39m future_marg_u(c_plus_interp, m_plus, k_plus, prob, w, par)\n",
      "File \u001b[1;32mc:\\Users\\PC\\OneDrive\\Skrivebord\\Urban-winner\\Simple.py:165\u001b[0m, in \u001b[0;36mtaste_exp\u001b[1;34m(m_plus, k_plus, v_plus_interp, par)\u001b[0m\n\u001b[0;32m    163\u001b[0m \u001b[38;5;28;01mfor\u001b[39;00m i_nh \u001b[38;5;129;01min\u001b[39;00m \u001b[38;5;28mrange\u001b[39m(par[\u001b[38;5;124m'\u001b[39m\u001b[38;5;124mNh\u001b[39m\u001b[38;5;124m'\u001b[39m]):  \u001b[38;5;66;03m# Loop over labor choices\u001b[39;00m\n\u001b[0;32m    164\u001b[0m     indices \u001b[38;5;241m=\u001b[39m np\u001b[38;5;241m.\u001b[39mstack([m_plus\u001b[38;5;241m.\u001b[39mravel(), k_plus\u001b[38;5;241m.\u001b[39mravel()], axis\u001b[38;5;241m=\u001b[39m\u001b[38;5;241m1\u001b[39m)\n\u001b[1;32m--> 165\u001b[0m     v_matrix[:, i_nh] \u001b[38;5;241m=\u001b[39m \u001b[43mv_plus_interp\u001b[49m\u001b[43m[\u001b[49m\u001b[43mi_nh\u001b[49m\u001b[43m]\u001b[49m\u001b[43m(\u001b[49m\u001b[43mindices\u001b[49m\u001b[43m)\u001b[49m\u001b[38;5;241m.\u001b[39mreshape(m_plus\u001b[38;5;241m.\u001b[39mshape)\n\u001b[0;32m    166\u001b[0m V_plus, prob \u001b[38;5;241m=\u001b[39m logsum_vec(v_matrix, par[\u001b[38;5;124m'\u001b[39m\u001b[38;5;124msigma_eta\u001b[39m\u001b[38;5;124m'\u001b[39m])\n\u001b[0;32m    167\u001b[0m \u001b[38;5;28;01mreturn\u001b[39;00m V_plus\u001b[38;5;241m.\u001b[39mreshape(m_plus\u001b[38;5;241m.\u001b[39mshape), prob\n",
      "File \u001b[1;32m~\\AppData\\Local\\Packages\\PythonSoftwareFoundation.Python.3.11_qbz5n2kfra8p0\\LocalCache\\local-packages\\Python311\\site-packages\\scipy\\interpolate\\_rgi.py:329\u001b[0m, in \u001b[0;36mRegularGridInterpolator.__call__\u001b[1;34m(self, xi, method)\u001b[0m\n\u001b[0;32m    326\u001b[0m \u001b[38;5;28;01mif\u001b[39;00m method \u001b[38;5;129;01mnot\u001b[39;00m \u001b[38;5;129;01min\u001b[39;00m \u001b[38;5;28mself\u001b[39m\u001b[38;5;241m.\u001b[39m_ALL_METHODS:\n\u001b[0;32m    327\u001b[0m     \u001b[38;5;28;01mraise\u001b[39;00m \u001b[38;5;167;01mValueError\u001b[39;00m(\u001b[38;5;124m\"\u001b[39m\u001b[38;5;124mMethod \u001b[39m\u001b[38;5;124m'\u001b[39m\u001b[38;5;132;01m%s\u001b[39;00m\u001b[38;5;124m'\u001b[39m\u001b[38;5;124m is not defined\u001b[39m\u001b[38;5;124m\"\u001b[39m \u001b[38;5;241m%\u001b[39m method)\n\u001b[1;32m--> 329\u001b[0m xi, xi_shape, ndim, nans, out_of_bounds \u001b[38;5;241m=\u001b[39m \u001b[38;5;28;43mself\u001b[39;49m\u001b[38;5;241;43m.\u001b[39;49m\u001b[43m_prepare_xi\u001b[49m\u001b[43m(\u001b[49m\u001b[43mxi\u001b[49m\u001b[43m)\u001b[49m\n\u001b[0;32m    331\u001b[0m \u001b[38;5;28;01mif\u001b[39;00m method \u001b[38;5;241m==\u001b[39m \u001b[38;5;124m\"\u001b[39m\u001b[38;5;124mlinear\u001b[39m\u001b[38;5;124m\"\u001b[39m:\n\u001b[0;32m    332\u001b[0m     indices, norm_distances \u001b[38;5;241m=\u001b[39m \u001b[38;5;28mself\u001b[39m\u001b[38;5;241m.\u001b[39m_find_indices(xi\u001b[38;5;241m.\u001b[39mT)\n",
      "File \u001b[1;32m~\\AppData\\Local\\Packages\\PythonSoftwareFoundation.Python.3.11_qbz5n2kfra8p0\\LocalCache\\local-packages\\Python311\\site-packages\\scipy\\interpolate\\_rgi.py:383\u001b[0m, in \u001b[0;36mRegularGridInterpolator._prepare_xi\u001b[1;34m(self, xi)\u001b[0m\n\u001b[0;32m    380\u001b[0m     \u001b[38;5;28;01mfor\u001b[39;00m i, p \u001b[38;5;129;01min\u001b[39;00m \u001b[38;5;28menumerate\u001b[39m(xi\u001b[38;5;241m.\u001b[39mT):\n\u001b[0;32m    381\u001b[0m         \u001b[38;5;28;01mif\u001b[39;00m \u001b[38;5;129;01mnot\u001b[39;00m np\u001b[38;5;241m.\u001b[39mlogical_and(np\u001b[38;5;241m.\u001b[39mall(\u001b[38;5;28mself\u001b[39m\u001b[38;5;241m.\u001b[39mgrid[i][\u001b[38;5;241m0\u001b[39m] \u001b[38;5;241m<\u001b[39m\u001b[38;5;241m=\u001b[39m p),\n\u001b[0;32m    382\u001b[0m                               np\u001b[38;5;241m.\u001b[39mall(p \u001b[38;5;241m<\u001b[39m\u001b[38;5;241m=\u001b[39m \u001b[38;5;28mself\u001b[39m\u001b[38;5;241m.\u001b[39mgrid[i][\u001b[38;5;241m-\u001b[39m\u001b[38;5;241m1\u001b[39m])):\n\u001b[1;32m--> 383\u001b[0m             \u001b[38;5;28;01mraise\u001b[39;00m \u001b[38;5;167;01mValueError\u001b[39;00m(\u001b[38;5;124m\"\u001b[39m\u001b[38;5;124mOne of the requested xi is out of bounds \u001b[39m\u001b[38;5;124m\"\u001b[39m\n\u001b[0;32m    384\u001b[0m                              \u001b[38;5;124m\"\u001b[39m\u001b[38;5;124min dimension \u001b[39m\u001b[38;5;132;01m%d\u001b[39;00m\u001b[38;5;124m\"\u001b[39m \u001b[38;5;241m%\u001b[39m i)\n\u001b[0;32m    385\u001b[0m     out_of_bounds \u001b[38;5;241m=\u001b[39m \u001b[38;5;28;01mNone\u001b[39;00m\n\u001b[0;32m    386\u001b[0m \u001b[38;5;28;01melse\u001b[39;00m:\n",
      "\u001b[1;31mValueError\u001b[0m: One of the requested xi is out of bounds in dimension 0"
     ]
    }
   ],
   "source": [
    "import numpy as np\n",
    "import matplotlib.pyplot as plt\n",
    "\n",
    "# Setup the seed and random number generator\n",
    "np.random.seed(2024)\n",
    "\n",
    "# Plotting configurations (replace funs.layout() if needed)\n",
    "plt.style.use('ggplot')  # Example style, choose as per your requirement\n",
    "plt.rcParams['figure.figsize'] = [16/2.54, 12/2.54]  # Convert cm to inches for figure size\n",
    "\n",
    "# Solve the model with EGM\n",
    "par = tr.setup()\n",
    "par = tr.create_grids(par)\n",
    "par['prefix'] = ''\n",
    "sol = tr.solve(par)\n",
    "\n",
    "# Simulate\n",
    "sim = {\n",
    "    'N': 10**5,\n",
    "    'm_ini': 1.5,\n",
    "    'k_ini': 1\n",
    "}\n",
    "sim = tr.simulate(sim, sol, par, 2024)\n",
    "euler_error = sim['log10_euler_error_using_nan']\n",
    "print(f\"Euler error (log10, using nan): {euler_error}\")\n",
    "\n",
    "# Presentation of solution\n",
    "par['prefix'] = 'solution_pres'\n",
    "ts_mid = 20\n",
    "ts_high = 35\n",
    "h_choice = list(range(par['Nh']))\n"
   ]
  },
  {
   "cell_type": "code",
   "execution_count": 33,
   "metadata": {},
   "outputs": [
    {
     "ename": "NameError",
     "evalue": "name 'Figs' is not defined",
     "output_type": "error",
     "traceback": [
      "\u001b[1;31m---------------------------------------------------------------------------\u001b[0m",
      "\u001b[1;31mNameError\u001b[0m                                 Traceback (most recent call last)",
      "Cell \u001b[1;32mIn[33], line 2\u001b[0m\n\u001b[0;32m      1\u001b[0m \u001b[38;5;66;03m# Assuming Figs class is defined elsewhere with these methods\u001b[39;00m\n\u001b[1;32m----> 2\u001b[0m \u001b[43mFigs\u001b[49m\u001b[38;5;241m.\u001b[39mvalue_1d_fig(par, sol, ts_mid, h_choice, \u001b[38;5;124m'\u001b[39m\u001b[38;5;124mm\u001b[39m\u001b[38;5;124m'\u001b[39m, \u001b[38;5;241m77\u001b[39m)\n\u001b[0;32m      3\u001b[0m Figs\u001b[38;5;241m.\u001b[39mvalue_1d_fig(par, sol, ts_high, h_choice, \u001b[38;5;124m'\u001b[39m\u001b[38;5;124mm\u001b[39m\u001b[38;5;124m'\u001b[39m, \u001b[38;5;241m77\u001b[39m)\n\u001b[0;32m      4\u001b[0m Figs\u001b[38;5;241m.\u001b[39msim_choice_fig(par, sim)\n",
      "\u001b[1;31mNameError\u001b[0m: name 'Figs' is not defined"
     ]
    }
   ],
   "source": [
    "\n",
    "# Assuming Figs class is defined elsewhere with these methods\n",
    "Figs.value_1d_fig(par, sol, ts_mid, h_choice, 'm', 77)\n",
    "Figs.value_1d_fig(par, sol, ts_high, h_choice, 'm', 77)\n",
    "Figs.sim_choice_fig(par, sim)\n",
    "Figs.sim_mean_hhours(sim, par)\n",
    "Figs.sim_mean_fig_new(sim['k'], par, 'solution_pres_capital')\n",
    "Figs.sim_mean_fig_new(sim['m'], par, 'solution_pres_wealth')"
   ]
  }
 ],
 "metadata": {
  "kernelspec": {
   "display_name": "Python 3",
   "language": "python",
   "name": "python3"
  },
  "language_info": {
   "codemirror_mode": {
    "name": "ipython",
    "version": 3
   },
   "file_extension": ".py",
   "mimetype": "text/x-python",
   "name": "python",
   "nbconvert_exporter": "python",
   "pygments_lexer": "ipython3",
   "version": "3.11.9"
  }
 },
 "nbformat": 4,
 "nbformat_minor": 2
}
